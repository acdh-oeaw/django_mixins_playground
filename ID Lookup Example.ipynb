{
 "cells": [
  {
   "cell_type": "code",
   "execution_count": 1,
   "id": "be55cb09",
   "metadata": {},
   "outputs": [],
   "source": [
    "import os\n",
    "os.environ[\"DJANGO_ALLOW_ASYNC_UNSAFE\"] = \"True\"\n",
    "from time import time"
   ]
  },
  {
   "cell_type": "code",
   "execution_count": 2,
   "id": "c317013a",
   "metadata": {},
   "outputs": [],
   "source": [
    "#Uncomment to create sample dataset (takes a while)\n",
    "\n",
    "#for i in range(20000):\n",
    "#    Person.objects.create(name=f\"Name_{i}\")\n",
    "#    MixinPerson.objects.create(name=f\"Name_{i}\")\n",
    "#    TempWork.objects.create(name=f\"work_{i}\")"
   ]
  },
  {
   "cell_type": "code",
   "execution_count": 4,
   "id": "3b12a508",
   "metadata": {},
   "outputs": [],
   "source": [
    "def lookup_caching_example(add_id=None):\n",
    "    before = time()\n",
    "    if not add_id:\n",
    "        res = RootModel.get_model_of_instance_id(1)\n",
    "        test = MixinPerson.objects.get(id=10)\n",
    "        res2 = RootModel.get_instance_by_id(test.id)\n",
    "        res3 = None\n",
    "    else:\n",
    "        res3 = RootModel.get_instance_by_id(add_id)\n",
    "        \n",
    "    after = time()\n",
    "    print(after-before)\n",
    "    if res3:\n",
    "        print(\"found added entity:\", res3)\n"
   ]
  },
  {
   "cell_type": "code",
   "execution_count": 5,
   "id": "93d9a8fc",
   "metadata": {},
   "outputs": [
    {
     "name": "stdout",
     "output_type": "stream",
     "text": [
      "called get model from: <class 'example_one.models.RootModel'>\n",
      "calculating model lookup\n",
      "called get model from: <class 'example_one.models.RootModel'>\n",
      "fetched cached model_lookup without re-calculating it\n",
      "0.635962724685669\n"
     ]
    }
   ],
   "source": [
    "lookup_caching_example()"
   ]
  },
  {
   "cell_type": "code",
   "execution_count": 6,
   "id": "bd6cf6ff",
   "metadata": {},
   "outputs": [
    {
     "name": "stdout",
     "output_type": "stream",
     "text": [
      "called get model from: <class 'example_one.models.RootModel'>\n",
      "fetched cached model_lookup without re-calculating it\n",
      "called get model from: <class 'example_one.models.RootModel'>\n",
      "fetched cached model_lookup without re-calculating it\n",
      "0.007052183151245117\n"
     ]
    }
   ],
   "source": [
    "# call lookup once more\n",
    "lookup_caching_example()"
   ]
  },
  {
   "cell_type": "code",
   "execution_count": 7,
   "id": "40d8f738",
   "metadata": {},
   "outputs": [],
   "source": [
    "# create new instance of child model of RootModel\n",
    "# should reset the lookup_index"
   ]
  },
  {
   "cell_type": "code",
   "execution_count": 8,
   "id": "c2524eb4",
   "metadata": {},
   "outputs": [
    {
     "name": "stdout",
     "output_type": "stream",
     "text": [
      "Called MixinPerson save method: args=(), kwargs={'force_insert': True, 'using': 'default'}\n",
      "self.start_date_written=None\n",
      "Called TempMixin save method: args=(), kwargs={'force_insert': True, 'using': 'default'}\n",
      "self.start_date_written=None\n",
      "Called RootEntity save method: args=(), kwargs={'force_insert': True, 'using': 'default'}\n",
      "Called RootModel save method: args=(), kwargs={'force_insert': True, 'using': 'default'}\n",
      "reset rootmodel._child_model_lookup\n"
     ]
    }
   ],
   "source": [
    "xy = MixinPerson.objects.create(name=\"XY\")"
   ]
  },
  {
   "cell_type": "code",
   "execution_count": 9,
   "id": "03072c67",
   "metadata": {},
   "outputs": [
    {
     "name": "stdout",
     "output_type": "stream",
     "text": [
      "called get model from: <class 'example_one.models.RootModel'>\n",
      "calculating model lookup\n",
      "0.4066617488861084\n",
      "found added entity: <MixinPerson: XY (1186571)>\n"
     ]
    }
   ],
   "source": [
    "# now the lookup will be recalculated \n",
    "# and the new Person exists in it\n",
    "lookup_caching_example(xy.id)"
   ]
  },
  {
   "cell_type": "code",
   "execution_count": 10,
   "id": "41ed762b",
   "metadata": {},
   "outputs": [
    {
     "name": "stdout",
     "output_type": "stream",
     "text": [
      "called get model from: <class 'example_one.models.RootModel'>\n",
      "fetched cached model_lookup without re-calculating it\n",
      "0.009294271469116211\n",
      "found added entity: <MixinPerson: XY (1186571)>\n"
     ]
    }
   ],
   "source": [
    "# again, second lookup will be much faster\n",
    "lookup_caching_example(xy.id)"
   ]
  },
  {
   "cell_type": "code",
   "execution_count": null,
   "id": "9eb7449b",
   "metadata": {},
   "outputs": [],
   "source": []
  }
 ],
 "metadata": {
  "kernelspec": {
   "display_name": "Django Shell-Plus",
   "language": "python",
   "name": "django_extensions"
  },
  "language_info": {
   "codemirror_mode": {
    "name": "ipython",
    "version": 3
   },
   "file_extension": ".py",
   "mimetype": "text/x-python",
   "name": "python",
   "nbconvert_exporter": "python",
   "pygments_lexer": "ipython3",
   "version": "3.11.1"
  }
 },
 "nbformat": 4,
 "nbformat_minor": 5
}
