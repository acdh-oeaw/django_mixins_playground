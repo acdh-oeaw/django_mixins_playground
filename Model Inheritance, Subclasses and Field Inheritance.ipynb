{
 "cells": [
  {
   "cell_type": "code",
   "execution_count": 1,
   "id": "fc3037b8",
   "metadata": {},
   "outputs": [],
   "source": [
    "import os\n",
    "os.environ[\"DJANGO_ALLOW_ASYNC_UNSAFE\"] = \"True\""
   ]
  },
  {
   "cell_type": "code",
   "execution_count": 37,
   "id": "033268d7",
   "metadata": {},
   "outputs": [],
   "source": [
    "# get all models \n",
    "models = RootModel.get_submodels()\n",
    "models.append(RootModel)"
   ]
  },
  {
   "cell_type": "markdown",
   "id": "b3369838",
   "metadata": {},
   "source": [
    "# Print Model Inheritance Tree"
   ]
  },
  {
   "cell_type": "code",
   "execution_count": 38,
   "id": "44495656",
   "metadata": {},
   "outputs": [],
   "source": [
    "def print_inheritance_tree(root=None, tabs=0):\n",
    "    \n",
    "    if not root:\n",
    "        root = RootModel\n",
    "        \n",
    "    print('\\t'*tabs, root.__name__)\n",
    "    submodels = root.__subclasses__()\n",
    "    for model in submodels: \n",
    "        subsub_models = model.__subclasses__()\n",
    "        if subsub_models: \n",
    "            print_inheritance_tree(model, tabs=tabs+1)\n",
    "        else:\n",
    "            print('\\t'*(tabs+1), model.__name__)\n",
    "        \n",
    "   \n",
    "    "
   ]
  },
  {
   "cell_type": "code",
   "execution_count": 39,
   "id": "ede776f2",
   "metadata": {},
   "outputs": [
    {
     "name": "stdout",
     "output_type": "stream",
     "text": [
      " RootModel\n",
      "\t RootEntity\n",
      "\t\t Person\n",
      "\t\t MixinPerson\n",
      "\t\t TempWork\n",
      "\t TempMixin\n",
      "\t\t MixinPerson\n",
      "\t\t TempWork\n",
      "\t StatementTemporalisationMixin\n",
      "\t\t MixinPerson\n"
     ]
    }
   ],
   "source": [
    "print_inheritance_tree()"
   ]
  },
  {
   "cell_type": "markdown",
   "id": "2e3282a2",
   "metadata": {},
   "source": [
    "# Print Model Subclasses"
   ]
  },
  {
   "cell_type": "code",
   "execution_count": 45,
   "id": "f661f1b8",
   "metadata": {},
   "outputs": [
    {
     "name": "stdout",
     "output_type": "stream",
     "text": [
      "StatementTemporalisationMixin ['MixinPerson']\n",
      "TempMixin ['MixinPerson', 'TempWork']\n",
      "RootEntity ['Person', 'MixinPerson', 'TempWork']\n",
      "Person []\n",
      "MixinPerson []\n",
      "TempWork []\n",
      "RootModel ['RootEntity', 'TempMixin', 'StatementTemporalisationMixin']\n"
     ]
    }
   ],
   "source": [
    "for m in models:\n",
    "    submodels =[sc.__name__ for sc in m.__subclasses__()]\n",
    "    print(m.__name__, submodels)\n"
   ]
  },
  {
   "cell_type": "markdown",
   "id": "f2e91ed8",
   "metadata": {},
   "source": [
    "# Show Leaf Models of Root Model\n",
    "\n",
    "- these should be all models without submodels, i.e. all models above with an empty list"
   ]
  },
  {
   "cell_type": "code",
   "execution_count": 46,
   "id": "167f0e11",
   "metadata": {},
   "outputs": [
    {
     "data": {
      "text/plain": [
       "{example_one.models.MixinPerson,\n",
       " example_one.models.Person,\n",
       " example_one.models.TempWork}"
      ]
     },
     "execution_count": 46,
     "metadata": {},
     "output_type": "execute_result"
    }
   ],
   "source": [
    "RootModel.get_leaf_models()"
   ]
  },
  {
   "cell_type": "markdown",
   "id": "1a77ca7f",
   "metadata": {},
   "source": [
    "# Models defined in example and their field inheritance\n",
    "\n",
    "Inherited fields are accessable in child models and act like all other fields, but in the DB layer are stored and managed in the model's table that defines them (i.e. the models table that the child model inherited the field from)"
   ]
  },
  {
   "cell_type": "code",
   "execution_count": 49,
   "id": "0bfc5bcf",
   "metadata": {},
   "outputs": [
    {
     "name": "stdout",
     "output_type": "stream",
     "text": [
      "StatementTemporalisationMixin\n",
      "\t id --> inherited from:  RootModel\n",
      "\t statement_start --> not inherited \n",
      "\t statement_end --> not inherited \n",
      "\t statement_temproalistaion_mixin_rootmodel_ptr --> not inherited \n",
      "TempMixin\n",
      "\t id --> inherited from:  RootModel\n",
      "\t start_date_written --> not inherited \n",
      "\t end_date_written --> not inherited \n",
      "\t tempmixin_rootmodel_ptr --> not inherited \n",
      "RootEntity\n",
      "\t id --> inherited from:  RootModel\n",
      "\t name --> not inherited \n",
      "\t rootentity_rootmodel_ptr --> not inherited \n",
      "Person\n",
      "\t id --> inherited from:  RootModel\n",
      "\t name --> inherited from:  RootEntity\n",
      "\t rootentity_rootmodel_ptr --> inherited from:  RootEntity\n",
      "\t first_name --> not inherited \n",
      "\t person_rootentity_ptr --> not inherited \n",
      "MixinPerson\n",
      "\t start_date_written --> inherited from:  TempMixin\n",
      "\t end_date_written --> inherited from:  TempMixin\n",
      "\t tempmixin_rootmodel_ptr --> inherited from:  TempMixin\n",
      "\t statement_start --> inherited from:  StatementTemporalisationMixin\n",
      "\t statement_end --> inherited from:  StatementTemporalisationMixin\n",
      "\t statement_temproalistaion_mixin_rootmodel_ptr --> inherited from:  StatementTemporalisationMixin\n",
      "\t id --> inherited from:  RootModel\n",
      "\t name --> inherited from:  RootEntity\n",
      "\t rootentity_rootmodel_ptr --> inherited from:  RootEntity\n",
      "\t statementtemporalisationmixin_ptr --> not inherited \n",
      "\t tempmixin_ptr --> not inherited \n",
      "\t first_name --> not inherited \n",
      "\t mixinperson_rootentity_ptr --> not inherited \n",
      "\t new_field --> not inherited \n",
      "TempWork\n",
      "\t id --> inherited from:  RootModel\n",
      "\t name --> inherited from:  RootEntity\n",
      "\t rootentity_rootmodel_ptr --> inherited from:  RootEntity\n",
      "\t start_date_written --> inherited from:  TempMixin\n",
      "\t end_date_written --> inherited from:  TempMixin\n",
      "\t tempmixin_rootmodel_ptr --> inherited from:  TempMixin\n",
      "\t tempmixin_ptr --> not inherited \n",
      "\t rootentity_ptr --> not inherited \n",
      "\t title --> not inherited \n",
      "\t author --> not inherited \n",
      "RootModel\n",
      "\t id --> not inherited \n"
     ]
    }
   ],
   "source": [
    "\n",
    "for m in models:\n",
    "    print(m.__name__)\n",
    "    for field in m._meta.fields:\n",
    "        if field.model == m:\n",
    "            tag = \"not inherited\"\n",
    "        else:\n",
    "            tag = \"inherited from: \"\n",
    "        print(f\"\\t {field.name} --> {tag} {field.model.__name__ if tag =='inherited from: ' else ''}\")"
   ]
  },
  {
   "cell_type": "markdown",
   "id": "09d2d085",
   "metadata": {},
   "source": [
    "# Show only fields defined in given model\n",
    "\n",
    "list of all fields defined per model, excluding inheritance one-to-one fields."
   ]
  },
  {
   "cell_type": "code",
   "execution_count": 54,
   "id": "491973d0",
   "metadata": {},
   "outputs": [
    {
     "name": "stdout",
     "output_type": "stream",
     "text": [
      "StatementTemporalisationMixin\n",
      "\t statement_start\n",
      "\t statement_end\n",
      "TempMixin\n",
      "\t start_date_written\n",
      "\t end_date_written\n",
      "RootEntity\n",
      "\t name\n",
      "Person\n",
      "\t first_name\n",
      "MixinPerson\n",
      "\t first_name\n",
      "\t new_field\n",
      "TempWork\n",
      "\t title\n",
      "\t author\n",
      "RootModel\n",
      "\t id\n"
     ]
    }
   ],
   "source": [
    "for m in models:\n",
    "    fields = [f.name for f in m.get_fields() if f.model ==m]\n",
    "    print(m.__name__)\n",
    "    for f in fields:\n",
    "        print(\"\\t\", f)"
   ]
  },
  {
   "cell_type": "markdown",
   "id": "b4817f10",
   "metadata": {},
   "source": [
    "# Show only fields that should be exposed to Users\n",
    "- i.e. exclude the fields that where created to deal with inheritance\n",
    "- shows all fields accessible in each model, regardless if they are inherited or not"
   ]
  },
  {
   "cell_type": "code",
   "execution_count": 58,
   "id": "d1f2e2c7",
   "metadata": {
    "scrolled": true
   },
   "outputs": [
    {
     "name": "stdout",
     "output_type": "stream",
     "text": [
      "StatementTemporalisationMixin\n",
      "\t id\n",
      "\t statement_start\n",
      "\t statement_end\n",
      "TempMixin\n",
      "\t id\n",
      "\t start_date_written\n",
      "\t end_date_written\n",
      "RootEntity\n",
      "\t id\n",
      "\t name\n",
      "Person\n",
      "\t id\n",
      "\t name\n",
      "\t first_name\n",
      "MixinPerson\n",
      "\t start_date_written\n",
      "\t end_date_written\n",
      "\t statement_start\n",
      "\t statement_end\n",
      "\t id\n",
      "\t name\n",
      "\t first_name\n",
      "\t new_field\n",
      "TempWork\n",
      "\t id\n",
      "\t name\n",
      "\t start_date_written\n",
      "\t end_date_written\n",
      "\t title\n",
      "\t author\n",
      "RootModel\n",
      "\t id\n"
     ]
    }
   ],
   "source": [
    "for m in models:\n",
    "    fields = m.get_fields()\n",
    "    print(m.__name__)\n",
    "    for f in fields:\n",
    "        print(\"\\t\", f.name)"
   ]
  },
  {
   "cell_type": "code",
   "execution_count": null,
   "id": "a72fc80c",
   "metadata": {},
   "outputs": [],
   "source": []
  }
 ],
 "metadata": {
  "kernelspec": {
   "display_name": "Django Shell-Plus",
   "language": "python",
   "name": "django_extensions"
  }
 },
 "nbformat": 4,
 "nbformat_minor": 5
}
